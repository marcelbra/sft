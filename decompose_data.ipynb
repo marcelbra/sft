{
 "cells": [
  {
   "cell_type": "code",
   "execution_count": null,
   "metadata": {},
   "outputs": [],
   "source": [
    "import os\n",
    "import json\n",
    "\n",
    "from collections import defaultdict\n",
    "from typing import Any, Optional\n",
    "\n",
    "from utils import nested_dict"
   ]
  },
  {
   "cell_type": "code",
   "execution_count": null,
   "metadata": {},
   "outputs": [],
   "source": [
    "def split_dataset(data):\n",
    "\n",
    "    formatted_dataset = defaultdict(list)\n",
    "\n",
    "    for data_point in data:\n",
    "        \n",
    "        question = data_point[\"instruction\"]\n",
    "        split_output = data_point[\"output\"].split(\"\\n\")\n",
    "        steps = len(split_output) - 1\n",
    "\n",
    "        for i in range(steps):\n",
    "            formatted_dataset[i+1].append(\n",
    "                {\n",
    "                    \"source_question\": question,\n",
    "                    \"source_steps\": \"\\n\".join(split_output[:i]),\n",
    "                    \"target_steps\": \"\\n\".join(split_output[i:i+1]),\n",
    "                    \"target_result\": f\"{split_output[-1].replace(\"#### \", \"\")}\" if i == steps-1 else \"\"\n",
    "                }\n",
    "            )\n",
    "\n",
    "    return formatted_dataset"
   ]
  },
  {
   "cell_type": "code",
   "execution_count": null,
   "metadata": {},
   "outputs": [],
   "source": [
    "def create_dirs(formatted_data_dir: str):\n",
    "    splits = [\"test\", \"train\"]\n",
    "    types = [\"normal\", \"socratic\"]\n",
    "    for split in splits:\n",
    "        for type_ in types:\n",
    "            path = os.path.join(formatted_data_dir, split, type_)\n",
    "            if not os.path.exists(path):\n",
    "                os.makedirs(path)"
   ]
  },
  {
   "cell_type": "code",
   "execution_count": null,
   "metadata": {},
   "outputs": [],
   "source": [
    "filtered_data_dir = \"data/filtered/\"\n",
    "data_paths = [\"test.json\", \"train.json\", \"test_socratic.json\", \"train_socratic.json\"]\n",
    "create_dirs(formatted_data_dir=\"data/decomposed/\")\n",
    "\n",
    "for data_path in data_paths:\n",
    "\n",
    "    with open(os.path.join(filtered_data_dir, data_path), \"r\") as f:\n",
    "        data = json.load(f)\n",
    "\n",
    "    formatted_dataset = split_dataset(data)\n",
    "    split = \"test\" if \"test\" in data_path else \"train\"\n",
    "    type_ = \"socratic\" if \"socratic\" in data_path else \"normal\"\n",
    "    for i in range(1, 9):\n",
    "        with open(f\"data/decomposed/{split}/{type_}/{i}.json\", \"w\") as f:\n",
    "            json.dump(formatted_dataset[i], f, indent=4, ensure_ascii=False)\n"
   ]
  }
 ],
 "metadata": {
  "kernelspec": {
   "display_name": "Python 3 (ipykernel)",
   "language": "python",
   "name": "python3"
  },
  "language_info": {
   "codemirror_mode": {
    "name": "ipython",
    "version": 3
   },
   "file_extension": ".py",
   "mimetype": "text/x-python",
   "name": "python",
   "nbconvert_exporter": "python",
   "pygments_lexer": "ipython3",
   "version": "3.11.6"
  }
 },
 "nbformat": 4,
 "nbformat_minor": 4
}
