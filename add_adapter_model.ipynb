{
 "cells": [
  {
   "cell_type": "code",
   "execution_count": 1,
   "metadata": {},
   "outputs": [],
   "source": [
    "import os\n",
    "import glob"
   ]
  },
  {
   "cell_type": "code",
   "execution_count": 2,
   "metadata": {},
   "outputs": [],
   "source": [
    "def add_adapter_model_folder_to(target_dir):\n",
    "\n",
    "    # Recursively find all directories that have \"checkpoint\" in their name in the target directory and get their full name including the part with the \"checkpoint\" in it\n",
    "    checkpoint_dirs = [\n",
    "        os.path.join(root, name)\n",
    "        for root, dirs, files in os.walk(target_dir)\n",
    "        for name in dirs\n",
    "        if \"checkpoint\" in name\n",
    "    ]\n",
    "\n",
    "    for checkpoint_dir in checkpoint_dirs:\n",
    "        adapter_model_dir = os.path.join(checkpoint_dir, \"adapter_model\")\n",
    "        if os.path.exists(adapter_model_dir):\n",
    "            continue\n",
    "        os.makedirs(adapter_model_dir)\n",
    "        for file in glob.glob(os.path.join(checkpoint_dir, \"*\")):\n",
    "            # Do not rename the adapter_model directory itself\n",
    "            if file.endswith(\"adapter_model\"):\n",
    "                continue\n",
    "            os.rename(file, os.path.join(adapter_model_dir, os.path.basename(file)))"
   ]
  },
  {
   "cell_type": "code",
   "execution_count": 3,
   "metadata": {},
   "outputs": [],
   "source": [
    "target_dirs = [\n",
    "    \"/cluster/work/lawecon/Work/mbraasch/output/gemma-2b-it/gsm8k-dl/3s-overlap-split-tf/m4-final\",\n",
    "    \"/cluster/work/lawecon/Work/mbraasch/output/gemma-2b-it/gsm8k-gt/3s-overlap-split-tf/m4-final\"\n",
    "]\n",
    "for target_dir in target_dirs:\n",
    "    add_adapter_model_folder_to(target_dir)"
   ]
  },
  {
   "cell_type": "code",
   "execution_count": null,
   "metadata": {},
   "outputs": [],
   "source": []
  }
 ],
 "metadata": {
  "kernelspec": {
   "display_name": "Python 3 (ipykernel)",
   "language": "python",
   "name": "python3"
  },
  "language_info": {
   "codemirror_mode": {
    "name": "ipython",
    "version": 3
   },
   "file_extension": ".py",
   "mimetype": "text/x-python",
   "name": "python",
   "nbconvert_exporter": "python",
   "pygments_lexer": "ipython3",
   "version": "3.11.6"
  }
 },
 "nbformat": 4,
 "nbformat_minor": 4
}
