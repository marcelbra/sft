{
 "cells": [
  {
   "cell_type": "code",
   "execution_count": 1,
   "metadata": {},
   "outputs": [],
   "source": [
    "import os\n",
    "import glob\n",
    "from add_adapter_model import add_adapter_model_folder_to"
   ]
  },
  {
   "cell_type": "code",
   "execution_count": 3,
   "metadata": {},
   "outputs": [],
   "source": [
    "target_dirs = [\n",
    "    \"/cluster/work/lawecon/Work/mbraasch/output/qwen2-1.5-instruct/gsm8k-dl/baseline\",\n",
    "    \"/cluster/work/lawecon/Work/mbraasch/output/qwen2-1.5-instruct/gsm8k-gt/baseline\"\n",
    "]\n",
    "for target_dir in target_dirs:\n",
    "    add_adapter_model_folder_to(target_dir)"
   ]
  },
  {
   "cell_type": "code",
   "execution_count": null,
   "metadata": {},
   "outputs": [],
   "source": []
  }
 ],
 "metadata": {
  "kernelspec": {
   "display_name": "Python 3 (ipykernel)",
   "language": "python",
   "name": "python3"
  },
  "language_info": {
   "codemirror_mode": {
    "name": "ipython",
    "version": 3
   },
   "file_extension": ".py",
   "mimetype": "text/x-python",
   "name": "python",
   "nbconvert_exporter": "python",
   "pygments_lexer": "ipython3",
   "version": "3.11.6"
  }
 },
 "nbformat": 4,
 "nbformat_minor": 4
}
