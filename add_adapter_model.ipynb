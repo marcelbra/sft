{
 "cells": [
  {
   "cell_type": "code",
   "execution_count": 3,
   "metadata": {},
   "outputs": [],
   "source": [
    "import os\n",
    "import glob\n",
    "from add_adapter_model import add_adapter_model_folder_to"
   ]
  },
  {
   "cell_type": "code",
   "execution_count": 4,
   "metadata": {},
   "outputs": [],
   "source": [
    "target_dirs = [\n",
    "    \"/cluster/work/lawecon/Work/mbraasch/output/phi-3-mini-instruct/moe--m678+m23_vs_m23678\",\n",
    "    \"/cluster/work/lawecon/Work/mbraasch/output/gemma-2b-it/moe--m678+m23_vs_m23678\"\n",
    "]\n",
    "for target_dir in target_dirs:\n",
    "    add_adapter_model_folder_to(target_dir)"
   ]
  },
  {
   "cell_type": "code",
   "execution_count": null,
   "metadata": {},
   "outputs": [],
   "source": []
  }
 ],
 "metadata": {
  "kernelspec": {
   "display_name": "Python 3 (ipykernel)",
   "language": "python",
   "name": "python3"
  },
  "language_info": {
   "codemirror_mode": {
    "name": "ipython",
    "version": 3
   },
   "file_extension": ".py",
   "mimetype": "text/x-python",
   "name": "python",
   "nbconvert_exporter": "python",
   "pygments_lexer": "ipython3",
   "version": "3.11.6"
  }
 },
 "nbformat": 4,
 "nbformat_minor": 4
}
