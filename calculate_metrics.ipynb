{
 "cells": [
  {
   "cell_type": "code",
   "execution_count": 5,
   "id": "9991de3a-1f20-4e7a-b5b6-aa12c510c610",
   "metadata": {},
   "outputs": [],
   "source": [
    "import os\n",
    "import json\n",
    "from collections import defaultdict\n",
    "from typing import Optional, Any"
   ]
  },
  {
   "cell_type": "code",
   "execution_count": 6,
   "id": "3284ea16",
   "metadata": {},
   "outputs": [],
   "source": [
    "def nested_dict(n: int = 2, type_: Any = list, obj: Optional[dict] = None):\n",
    "    \n",
    "    \"\"\"\n",
    "    Creates nested dicts (`defaultdict`s of any depth with any type).\n",
    "    Additionally, can take an arbitrarily deep nested dictionary and\n",
    "    turn it into its `defaultdict` correspondence.\n",
    "\n",
    "    :param n: Number of depth levels.\n",
    "    :param type_: Type of the nested dict\n",
    "    :param obj: The nested dict to turn into a `defaultdict`.\n",
    "    :return:\n",
    "    \"\"\"\n",
    "    if n <= 0:  # Base case\n",
    "        return obj if obj else type_()\n",
    "\n",
    "    if obj:  # Recursive case\n",
    "        return defaultdict(lambda: type_(), {k: nested_dict(n=n - 1, type_=type_, obj=v) for k, v in obj.items()})\n",
    "\n",
    "    return defaultdict(lambda: nested_dict(n=n - 1, type_=type_))"
   ]
  },
  {
   "cell_type": "code",
   "execution_count": 9,
   "id": "c047d50d-d3ca-4b9f-97fb-c5f4046f511e",
   "metadata": {},
   "outputs": [],
   "source": [
    "def calc_metrics(\n",
    "    ground_truth_path = \"/cluster/work/lawecon/Work/mbraasch/output/gemma-2b-it/data/test.json\",\n",
    "    output_dir =\"/cluster/work/lawecon/Work/mbraasch/output/gemma-2b-it\"\n",
    "    ):\n",
    "    results = nested_dict(n=2, type_=dict)\n",
    "    with open(ground_truth_path, \"r\") as f:\n",
    "        ground_truth = json.load(f)\n",
    "    for element in ground_truth:\n",
    "        question = element[\"source_question\"]\n",
    "        results[question][\"ground_truth\"] = element[\"target_result\"]\n",
    "\n",
    "    # Get prediction\n",
    "    predicted_result_path = os.path.join(output_dir, \"final_results.json\")\n",
    "    with open(predicted_result_path, \"r\") as f:\n",
    "        predicted_result = json.load(f)\n",
    "\n",
    "    for element in predicted_result:\n",
    "        question = element[\"instruction\"].split(\"\\n\\n### Input:\\n\")[1].split(\"\\n\\n### Response:\\n\")[0]\n",
    "        results[question][\"predicted\"] = element[\"result\"]\n",
    "\n",
    "    # For those where there is no prediction, add \"None\" as a prediction to the results dict\n",
    "    for question in results:\n",
    "        if \"predicted\" not in results[question]:\n",
    "            results[question][\"predicted\"] = \"None\"\n",
    "\n",
    "    # Calculate error\n",
    "    for question in results:\n",
    "        results[question][\"correct\"] = results[question][\"predicted\"] == results[question][\"ground_truth\"]\n",
    "\n",
    "    # Write results to file\n",
    "    results_path = os.path.join(output_dir, \"final_comparison.json\")\n",
    "    with open(results_path, \"w\") as f:\n",
    "        json.dump(results, f, indent=4, ensure_ascii=False)\n",
    "\n",
    "    # Write metrics to file\n",
    "    metrics = {\n",
    "        \"n\": len(results),\n",
    "        \"correct\": sum([results[question][\"correct\"] for question in results]),\n",
    "        \"incorrect\": len(results) - sum([results[question][\"correct\"] for question in results]),\n",
    "        \"accuracy\": sum([results[question][\"correct\"] for question in results]) / len(results)\n",
    "    }\n",
    "\n",
    "    metrics_path = os.path.join(output_dir, \"final_metrics.json\")\n",
    "    with open(metrics_path, \"w\") as f:\n",
    "        json.dump(metrics, f, indent=4, ensure_ascii=False)\n",
    "    print(\"Done.\")"
   ]
  },
  {
   "cell_type": "code",
   "execution_count": 10,
   "id": "77490d42-74cd-4ffe-9114-6819d0c07612",
   "metadata": {},
   "outputs": [],
   "source": []
  },
  {
   "cell_type": "code",
   "execution_count": null,
   "id": "96ea844c-224f-44f2-8b5f-01d5e7e908af",
   "metadata": {},
   "outputs": [],
   "source": []
  }
 ],
 "metadata": {
  "kernelspec": {
   "display_name": "Python 3 (ipykernel)",
   "language": "python",
   "name": "python3"
  },
  "language_info": {
   "codemirror_mode": {
    "name": "ipython",
    "version": 3
   },
   "file_extension": ".py",
   "mimetype": "text/x-python",
   "name": "python",
   "nbconvert_exporter": "python",
   "pygments_lexer": "ipython3",
   "version": "3.10.4"
  }
 },
 "nbformat": 4,
 "nbformat_minor": 5
}
