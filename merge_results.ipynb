{
 "cells": [
  {
   "cell_type": "code",
   "execution_count": 1,
   "id": "324f9584-9f9d-4b00-874e-1f2e5799cbca",
   "metadata": {},
   "outputs": [],
   "source": [
    "import os\n",
    "import json"
   ]
  },
  {
   "cell_type": "code",
   "execution_count": 3,
   "id": "9bdcbb89-127a-46b4-bf32-522e5ea8881f",
   "metadata": {},
   "outputs": [],
   "source": [
    "experiment_name = \"/cluster/work/lawecon/Work/mbraasch/output/deepseek-7b-base-m1m2m3m4m58/\"\n",
    "models = [\"m2\", \"m3\", \"m4\", \"m5-8\"]\n",
    "\n",
    "merged_result = []\n",
    "for model in models:\n",
    "    path = os.path.join(experiment_name, model, \"final_results.json\")\n",
    "    with open(path, \"r\") as f:\n",
    "        result = json.load(f)\n",
    "    for element in result:\n",
    "        merged_result.append(element)\n",
    "\n",
    "# Write merged result to file\n",
    "with open(os.path.join(experiment_name, \"merged_final_results.json\"), \"w\") as f:\n",
    "    json.dump(merged_result, f, indent=4, ensure_ascii=False)\n",
    "        "
   ]
  }
 ],
 "metadata": {
  "kernelspec": {
   "display_name": "Python 3 (ipykernel)",
   "language": "python",
   "name": "python3"
  },
  "language_info": {
   "codemirror_mode": {
    "name": "ipython",
    "version": 3
   },
   "file_extension": ".py",
   "mimetype": "text/x-python",
   "name": "python",
   "nbconvert_exporter": "python",
   "pygments_lexer": "ipython3",
   "version": "3.10.4"
  }
 },
 "nbformat": 4,
 "nbformat_minor": 5
}
