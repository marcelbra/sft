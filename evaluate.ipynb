{
 "cells": [
  {
   "cell_type": "code",
   "execution_count": 5,
   "id": "be2a5e65-7021-4be4-ae66-2c3ce8225eb2",
   "metadata": {},
   "outputs": [],
   "source": [
    "from evaluate import evaluate"
   ]
  },
  {
   "cell_type": "code",
   "execution_count": null,
   "id": "9dbc2ebe-3aa5-41f6-a17a-78159e0cc786",
   "metadata": {},
   "outputs": [],
   "source": [
    "types = [\"dl\", \"gt\"]\n",
    "strategies = [\"added\", \"replaced\"]\n",
    "percs = [0.05, 0.1, 0.15, 0.2, 0.25, 0.3]\n",
    "for type_ in types:\n",
    "    for perc in percs:\n",
    "        for strategy in strategies:\n",
    "            eval_folder_path = f\"/cluster/work/lawecon/Work/mbraasch/output/gemma-2b-it/gsm8k-{type_}/m123-m4f-tf/m4-final/m4-final-tf-{perc}-{strategy}\"\n",
    "            if perc == 0.15 and strategy == \"replaced\" and type_==\"dl\":\n",
    "                continue\n",
    "            print(\"\\nEvaluating:\")\n",
    "            print(\"Data type:\", type_)\n",
    "            print(\"Percentage:\", perc)\n",
    "            print(\"Strategy:\", strategy)\n",
    "            # Final results for m123-4f-tf model\n",
    "            # final_results = [\n",
    "            #     f\"/cluster/work/lawecon/Work/mbraasch/output/gemma-2b-it/gsm8k-{type_}/m123-m4f-tf/m123/final_results_test.json\",\n",
    "            #     f\"/cluster/work/lawecon/Work/mbraasch/output/gemma-2b-it/gsm8k-{type_}/m123-m4f-tf/m4-final/m4-final-tf-{perc}-{strategy}/s2_final_results_train.json\",\n",
    "            # ]\n",
    "            final_results = [\n",
    "                f\"/cluster/work/lawecon/Work/mbraasch/output/gemma-2b-it/gsm8k-{type_}/3s-overlap-split-tf/m123/final_results_test.json\",\n",
    "                f\"/cluster/work/lawecon/Work/mbraasch/output/gemma-2b-it/gsm8k-{type_}/3s-overlap-split-tf/m234/m234-tf-{perc}-{strategy}/s1_final_results_test.json\",\n",
    "                f\"/cluster/work/lawecon/Work/mbraasch/output/gemma-2b-it/gsm8k-{type_}/3s-overlap-split-tf/m345/m345-tf-{perc}-{strategy}/s1_final_results_test.json\",\n",
    "                f\"/cluster/work/lawecon/Work/mbraasch/output/gemma-2b-it/gsm8k-{type_}/3s-overlap-split-tf/m4-final/m4-final-tf-{perc}-{strategy}/s1_final_results_test.json\",\n",
    "            ]\n",
    "            evaluate(final_results, eval_folder_path)"
   ]
  },
  {
   "cell_type": "code",
   "execution_count": null,
   "id": "5235bfd8-cb4e-4dcb-8558-715f997e4921",
   "metadata": {},
   "outputs": [],
   "source": []
  }
 ],
 "metadata": {
  "kernelspec": {
   "display_name": "Python 3 (ipykernel)",
   "language": "python",
   "name": "python3"
  },
  "language_info": {
   "codemirror_mode": {
    "name": "ipython",
    "version": 3
   },
   "file_extension": ".py",
   "mimetype": "text/x-python",
   "name": "python",
   "nbconvert_exporter": "python",
   "pygments_lexer": "ipython3",
   "version": "3.11.6"
  }
 },
 "nbformat": 4,
 "nbformat_minor": 5
}
