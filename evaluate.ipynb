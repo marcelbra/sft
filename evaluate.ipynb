{
 "cells": [
  {
   "cell_type": "code",
   "execution_count": 1,
   "id": "be2a5e65-7021-4be4-ae66-2c3ce8225eb2",
   "metadata": {},
   "outputs": [],
   "source": [
    "import os\n",
    "from evaluate import evaluate\n",
    "from utils import OUTPUT_DIR"
   ]
  },
  {
   "cell_type": "code",
   "execution_count": 14,
   "id": "3c2608c8",
   "metadata": {},
   "outputs": [
    {
     "name": "stdout",
     "output_type": "stream",
     "text": [
      "Grount truth length: 696\n",
      "Accuracy: 33.1897%\n",
      "Grount truth length: 696\n",
      "Accuracy: 37.3563%\n",
      "Grount truth length: 696\n",
      "Accuracy: 37.7874%\n",
      "Grount truth length: 696\n",
      "Accuracy: 36.4943%\n",
      "Grount truth length: 696\n",
      "Accuracy: 35.7759%\n"
     ]
    }
   ],
   "source": [
    "#model = \"phi-3-mini-instruct\"\n",
    "#expert = \"e1-m_f\"\n",
    "\n",
    "model = \"gemma-2b-it\"\n",
    "expert = \"23678\"\n",
    "experiment = \"moe--m678+m23_vs_m23678\"\n",
    "\n",
    "for run in [1,2,3,4,5]:\n",
    "    evaluate(\n",
    "        final_results=[\n",
    "            f\"/cluster/work/lawecon/Work/mbraasch/output/{model}/{experiment}/m{expert}/{run}/final_results_test_23.json\",\n",
    "        #    f\"/cluster/work/lawecon/Work/mbraasch/output/{model}/{experiment}/m{expert}/{run}/final_results_test_678.json\",\n",
    "        ],\n",
    "        eval_folder_path=f\"/cluster/work/lawecon/Work/mbraasch/output/{model}/{experiment}/m{expert}/{run}\",\n",
    "        ground_truth_path=f\"/cluster/work/lawecon/Work/mbraasch/output/{model}/{experiment}/test_23.json\",\n",
    "        #ground_truth_path=f\"/cluster/work/lawecon/Work/mbraasch/output/{model}/{experiment}/test_678.json\",\n",
    "        # postfix=f\"_test_678\",\n",
    "        postfix=f\"_test_23\",\n",
    "    )"
   ]
  },
  {
   "cell_type": "code",
   "execution_count": null,
   "id": "39b4753a-4b51-4155-bd29-7077c6b5e916",
   "metadata": {},
   "outputs": [],
   "source": []
  }
 ],
 "metadata": {
  "kernelspec": {
   "display_name": "Python 3 (ipykernel)",
   "language": "python",
   "name": "python3"
  },
  "language_info": {
   "codemirror_mode": {
    "name": "ipython",
    "version": 3
   },
   "file_extension": ".py",
   "mimetype": "text/x-python",
   "name": "python",
   "nbconvert_exporter": "python",
   "pygments_lexer": "ipython3",
   "version": "3.11.6"
  }
 },
 "nbformat": 4,
 "nbformat_minor": 5
}
