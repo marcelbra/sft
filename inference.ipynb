{
 "cells": [
  {
   "cell_type": "code",
   "execution_count": null,
   "id": "2d03434a-fe9c-4302-b538-b4cd42f5fb4d",
   "metadata": {},
   "outputs": [],
   "source": [
    "!kill -KILL 300065"
   ]
  },
  {
   "cell_type": "code",
   "execution_count": null,
   "id": "0a49707a-1eb2-421b-b28e-d9f29d4a62d5",
   "metadata": {},
   "outputs": [],
   "source": [
    "!nvidia-smi"
   ]
  },
  {
   "cell_type": "code",
   "execution_count": 2,
   "id": "705938e4-7c4d-48b7-a3f3-710d18eabf08",
   "metadata": {},
   "outputs": [],
   "source": [
    "from inference_run import run_inference"
   ]
  },
  {
   "cell_type": "code",
   "execution_count": null,
   "id": "9ca1563e-8d1c-406b-9082-79dedaa3ab1d",
   "metadata": {},
   "outputs": [],
   "source": [
    "run_inference(\n",
    "    experiment=\"gemma-2b-it\",\n",
    "    run_name=\"gsm8k-gt/m123-m4f-tf/m123\",\n",
    "    postfix=\"_test\",\n",
    "    #previous_next_steps=\"/cluster/work/lawecon/Work/mbraasch/output/gemma-2b-it/gsm8k-dl/m123-m4f-tf/m123/s1_next_step_predictions_s1_test.json\",\n",
    "    #data_dir = \"/cluster/work/lawecon/Work/mbraasch/data/gsm8k_train.json\"\n",
    ")"
   ]
  },
  {
   "cell_type": "code",
   "execution_count": null,
   "id": "106dbc26-a8fb-482b-aee7-6bb80523d07f",
   "metadata": {},
   "outputs": [],
   "source": []
  }
 ],
 "metadata": {
  "kernelspec": {
   "display_name": "Python 3 (ipykernel)",
   "language": "python",
   "name": "python3"
  },
  "language_info": {
   "codemirror_mode": {
    "name": "ipython",
    "version": 3
   },
   "file_extension": ".py",
   "mimetype": "text/x-python",
   "name": "python",
   "nbconvert_exporter": "python",
   "pygments_lexer": "ipython3",
   "version": "3.11.6"
  }
 },
 "nbformat": 4,
 "nbformat_minor": 5
}
