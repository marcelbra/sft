{
 "cells": [
  {
   "cell_type": "code",
   "execution_count": 15,
   "id": "d3d01df0-03ea-43cd-9b8d-f3160b191962",
   "metadata": {},
   "outputs": [],
   "source": [
    "from tf import (\n",
    "    create_all_tf_data_from_single_model,\n",
    "    create_tf_data_from_corresponding_model,\n",
    ")"
   ]
  },
  {
   "cell_type": "code",
   "execution_count": 22,
   "id": "e44be129",
   "metadata": {},
   "outputs": [
    {
     "name": "stdout",
     "output_type": "stream",
     "text": [
      "Amount of questions not in ground truth data: 0\n",
      "Amount of questions not in ground truth data: 0\n",
      "Amount of questions not in ground truth data: 0\n",
      "Amount of questions not in ground truth data: 0\n",
      "Amount of questions not in ground truth data: 0\n",
      "Amount of questions not in ground truth data: 0\n",
      "Saving new datasets.\n"
     ]
    },
    {
     "name": "stderr",
     "output_type": "stream",
     "text": [
      "100%|██████████| 6/6 [00:00<00:00, 17.31it/s]\n"
     ]
    }
   ],
   "source": [
    "previous_model_predictions = \"/cluster/work/lawecon/Work/mbraasch/output/gemma-2b-it/gsm8k-dl/m123-m4f-tf/m123/next_step_predictions_train.json\"\n",
    "ground_truth_data = \"/cluster/work/lawecon/Work/mbraasch/output/gemma-2b-it/gsm8k-dl/m123-m4f-tf/m4-final/45678.json\"\n",
    "run_name = \"/cluster/work/lawecon/Work/mbraasch/output/gemma-2b-it/gsm8k-dl/m123-m4f-tf\"\n",
    "\n",
    "target_model = \"m4-final\"\n",
    "strategies = [\"added\", \"replaced\"]\n",
    "splits = [0.05, 0.1, 0.15, 0.2, 0.25, 0.3]\n",
    "\n",
    "create_all_tf_data_from_single_model(\n",
    "    previous_model_predictions=previous_model_predictions,\n",
    "    ground_truth_data=ground_truth_data,\n",
    "    run_name=run_name,\n",
    "    target_model=target_model,\n",
    "    splits=splits,\n",
    "    strategies=strategies,\n",
    "    only_first_step=False\n",
    ")"
   ]
  },
  {
   "cell_type": "code",
   "execution_count": 20,
   "id": "8e03c5c6",
   "metadata": {},
   "outputs": [
    {
     "name": "stdout",
     "output_type": "stream",
     "text": [
      "Calculating new dataset.\n",
      "Percentage: 0.05, Strategy: added\n",
      "Amount of questions not in ground truth data: 0\n",
      "Saving new dataset.\n",
      "Calculating new dataset.\n",
      "Percentage: 0.05, Strategy: replaced\n",
      "Amount of questions not in ground truth data: 0\n",
      "Saving new dataset.\n",
      "Calculating new dataset.\n",
      "Percentage: 0.1, Strategy: added\n",
      "Amount of questions not in ground truth data: 0\n",
      "Saving new dataset.\n",
      "Calculating new dataset.\n",
      "Percentage: 0.2, Strategy: added\n",
      "Amount of predictions is smaller than the desired amount of 672.\n",
      "Setting amount to the length of the predictions, which is 435.\n",
      "Corresponding overlap is 0.6473 with a percentage of 0.1295.\n",
      "Amount of questions not in ground truth data: 0\n",
      "Saving new dataset.\n",
      "Calculating new dataset.\n",
      "Percentage: 0.2, Strategy: replaced\n",
      "Amount of predictions is smaller than the desired amount of 672.\n",
      "Setting amount to the length of the predictions, which is 392.\n",
      "Corresponding overlap is 0.5833 with a percentage of 0.1167.\n",
      "Amount of questions not in ground truth data: 0\n",
      "Saving new dataset.\n",
      "Calculating new dataset.\n",
      "Percentage: 0.25, Strategy: added\n",
      "Amount of predictions is smaller than the desired amount of 841.\n",
      "Setting amount to the length of the predictions, which is 570.\n",
      "Corresponding overlap is 0.6778 with a percentage of 0.1694.\n",
      "Amount of questions not in ground truth data: 0\n",
      "Saving new dataset.\n",
      "Calculating new dataset.\n",
      "Percentage: 0.25, Strategy: replaced\n",
      "Amount of predictions is smaller than the desired amount of 841.\n",
      "Setting amount to the length of the predictions, which is 318.\n",
      "Corresponding overlap is 0.3781 with a percentage of 0.0945.\n",
      "Amount of questions not in ground truth data: 0\n",
      "Saving new dataset.\n",
      "Calculating new dataset.\n",
      "Percentage: 0.1, Strategy: replaced\n",
      "Amount of questions not in ground truth data: 0\n",
      "Saving new dataset.\n",
      "Calculating new dataset.\n",
      "Percentage: 0.15, Strategy: added\n",
      "Amount of predictions is smaller than the desired amount of 504.\n",
      "Setting amount to the length of the predictions, which is 454.\n",
      "Corresponding overlap is 0.9008 with a percentage of 0.1351.\n",
      "Amount of questions not in ground truth data: 0\n",
      "Saving new dataset.\n",
      "Calculating new dataset.\n",
      "Percentage: 0.15, Strategy: replaced\n",
      "Amount of predictions is smaller than the desired amount of 504.\n",
      "Setting amount to the length of the predictions, which is 460.\n",
      "Corresponding overlap is 0.9127 with a percentage of 0.1369.\n",
      "Amount of questions not in ground truth data: 0\n",
      "Saving new dataset.\n",
      "Calculating new dataset.\n",
      "Percentage: 0.3, Strategy: added\n",
      "Amount of predictions is smaller than the desired amount of 1009.\n",
      "Setting amount to the length of the predictions, which is 482.\n",
      "Corresponding overlap is 0.4777 with a percentage of 0.1433.\n",
      "Amount of questions not in ground truth data: 0\n",
      "Saving new dataset.\n",
      "Calculating new dataset.\n",
      "Percentage: 0.3, Strategy: replaced\n",
      "Amount of predictions is smaller than the desired amount of 1009.\n",
      "Setting amount to the length of the predictions, which is 391.\n",
      "Corresponding overlap is 0.3875 with a percentage of 0.1163.\n",
      "Amount of questions not in ground truth data: 0\n",
      "Saving new dataset.\n"
     ]
    }
   ],
   "source": [
    "previous_model_predictions_dir = \"/cluster/work/lawecon/Work/mbraasch/output/gemma-2b-it/gsm8k-gt/3s-overlap-split-tf/m345\"\n",
    "target_data_dir = \"/cluster/work/lawecon/Work/mbraasch/output/gemma-2b-it/gsm8k-gt/3s-overlap-split-tf/m4-final\"\n",
    "ground_truth_data = \"/cluster/work/lawecon/Work/mbraasch/output/gemma-2b-it/gsm8k-gt/3s-overlap-split-tf/m4-final/45678.json\"\n",
    "target_model = \"m4-final\"\n",
    "\n",
    "create_tf_data_from_corresponding_model(\n",
    "    previous_model_predictions=previous_model_predictions_dir,\n",
    "    target_data_dir=target_data_dir,\n",
    "    ground_truth_data=ground_truth_data,\n",
    "    target_model=target_model\n",
    ")"
   ]
  },
  {
   "cell_type": "code",
   "execution_count": null,
   "id": "245e2f02-9caf-4dc4-91b5-586f77129efd",
   "metadata": {},
   "outputs": [],
   "source": []
  }
 ],
 "metadata": {
  "kernelspec": {
   "display_name": "Python 3 (ipykernel)",
   "language": "python",
   "name": "python3"
  },
  "language_info": {
   "codemirror_mode": {
    "name": "ipython",
    "version": 3
   },
   "file_extension": ".py",
   "mimetype": "text/x-python",
   "name": "python",
   "nbconvert_exporter": "python",
   "pygments_lexer": "ipython3",
   "version": "3.11.6"
  }
 },
 "nbformat": 4,
 "nbformat_minor": 5
}
