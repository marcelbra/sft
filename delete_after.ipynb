{
 "cells": [
  {
   "cell_type": "code",
   "execution_count": 5,
   "metadata": {},
   "outputs": [],
   "source": [
    "models = [\n",
    "    \"google--gemma-1.1-2b-it\",\n",
    "    \"microsoft--Phi-3-mini-128k-instruct\",\n",
    "    \"mistralai--Mistral-7B-Instruct-v0.3\",\n",
    "    \"deepseek-ai--deepseek-llm-7b-chat\"\n",
    "]\n",
    "experts = [\n",
    "    \"m2345678\",\n",
    "    \"m345678\",\n",
    "    \"m45678\"\n",
    "]\n",
    "datasets = [\"gt\", \"dl\", \"socratic\"]\n",
    "runs = list(range(1, 6))"
   ]
  },
  {
   "cell_type": "code",
   "execution_count": 7,
   "metadata": {},
   "outputs": [
    {
     "name": "stdout",
     "output_type": "stream",
     "text": [
      "Missing file in /cluster/work/lawecon/Work/mbraasch/output/TEC/microsoft--Phi-3-mini-128k-instruct/gt/m2345678/1\n",
      "Missing file in /cluster/work/lawecon/Work/mbraasch/output/TEC/microsoft--Phi-3-mini-128k-instruct/gt/m2345678/2\n",
      "Missing file in /cluster/work/lawecon/Work/mbraasch/output/TEC/microsoft--Phi-3-mini-128k-instruct/gt/m2345678/3\n",
      "Missing file in /cluster/work/lawecon/Work/mbraasch/output/TEC/microsoft--Phi-3-mini-128k-instruct/gt/m2345678/4\n",
      "Missing file in /cluster/work/lawecon/Work/mbraasch/output/TEC/microsoft--Phi-3-mini-128k-instruct/gt/m2345678/5\n",
      "Missing file in /cluster/work/lawecon/Work/mbraasch/output/TEC/microsoft--Phi-3-mini-128k-instruct/dl/m2345678/1\n",
      "Missing file in /cluster/work/lawecon/Work/mbraasch/output/TEC/microsoft--Phi-3-mini-128k-instruct/dl/m2345678/2\n",
      "Missing file in /cluster/work/lawecon/Work/mbraasch/output/TEC/microsoft--Phi-3-mini-128k-instruct/dl/m2345678/3\n",
      "Missing file in /cluster/work/lawecon/Work/mbraasch/output/TEC/microsoft--Phi-3-mini-128k-instruct/dl/m2345678/4\n",
      "Missing file in /cluster/work/lawecon/Work/mbraasch/output/TEC/microsoft--Phi-3-mini-128k-instruct/dl/m2345678/5\n",
      "Missing file in /cluster/work/lawecon/Work/mbraasch/output/TEC/microsoft--Phi-3-mini-128k-instruct/socratic/m2345678/1\n",
      "Missing file in /cluster/work/lawecon/Work/mbraasch/output/TEC/microsoft--Phi-3-mini-128k-instruct/socratic/m2345678/2\n",
      "Missing file in /cluster/work/lawecon/Work/mbraasch/output/TEC/microsoft--Phi-3-mini-128k-instruct/socratic/m2345678/3\n",
      "Missing file in /cluster/work/lawecon/Work/mbraasch/output/TEC/microsoft--Phi-3-mini-128k-instruct/socratic/m2345678/4\n",
      "Missing file in /cluster/work/lawecon/Work/mbraasch/output/TEC/microsoft--Phi-3-mini-128k-instruct/socratic/m2345678/5\n",
      "Missing file in /cluster/work/lawecon/Work/mbraasch/output/TEC/microsoft--Phi-3-mini-128k-instruct/gt/m345678/1\n",
      "Missing file in /cluster/work/lawecon/Work/mbraasch/output/TEC/microsoft--Phi-3-mini-128k-instruct/gt/m345678/2\n",
      "Missing file in /cluster/work/lawecon/Work/mbraasch/output/TEC/microsoft--Phi-3-mini-128k-instruct/gt/m345678/3\n",
      "Missing file in /cluster/work/lawecon/Work/mbraasch/output/TEC/microsoft--Phi-3-mini-128k-instruct/gt/m345678/4\n",
      "Missing file in /cluster/work/lawecon/Work/mbraasch/output/TEC/microsoft--Phi-3-mini-128k-instruct/gt/m345678/5\n",
      "Missing file in /cluster/work/lawecon/Work/mbraasch/output/TEC/microsoft--Phi-3-mini-128k-instruct/dl/m345678/1\n",
      "Missing file in /cluster/work/lawecon/Work/mbraasch/output/TEC/microsoft--Phi-3-mini-128k-instruct/dl/m345678/2\n",
      "Missing file in /cluster/work/lawecon/Work/mbraasch/output/TEC/microsoft--Phi-3-mini-128k-instruct/dl/m345678/3\n",
      "Missing file in /cluster/work/lawecon/Work/mbraasch/output/TEC/microsoft--Phi-3-mini-128k-instruct/dl/m345678/4\n",
      "Missing file in /cluster/work/lawecon/Work/mbraasch/output/TEC/microsoft--Phi-3-mini-128k-instruct/dl/m345678/5\n",
      "Missing file in /cluster/work/lawecon/Work/mbraasch/output/TEC/microsoft--Phi-3-mini-128k-instruct/socratic/m345678/1\n",
      "Missing file in /cluster/work/lawecon/Work/mbraasch/output/TEC/microsoft--Phi-3-mini-128k-instruct/socratic/m345678/2\n",
      "Missing file in /cluster/work/lawecon/Work/mbraasch/output/TEC/microsoft--Phi-3-mini-128k-instruct/socratic/m345678/3\n",
      "Missing file in /cluster/work/lawecon/Work/mbraasch/output/TEC/microsoft--Phi-3-mini-128k-instruct/socratic/m345678/4\n",
      "Missing file in /cluster/work/lawecon/Work/mbraasch/output/TEC/microsoft--Phi-3-mini-128k-instruct/socratic/m345678/5\n",
      "Missing file in /cluster/work/lawecon/Work/mbraasch/output/TEC/microsoft--Phi-3-mini-128k-instruct/gt/m45678/1\n",
      "Missing file in /cluster/work/lawecon/Work/mbraasch/output/TEC/microsoft--Phi-3-mini-128k-instruct/gt/m45678/2\n",
      "Missing file in /cluster/work/lawecon/Work/mbraasch/output/TEC/microsoft--Phi-3-mini-128k-instruct/gt/m45678/3\n",
      "Missing file in /cluster/work/lawecon/Work/mbraasch/output/TEC/microsoft--Phi-3-mini-128k-instruct/gt/m45678/4\n",
      "Missing file in /cluster/work/lawecon/Work/mbraasch/output/TEC/microsoft--Phi-3-mini-128k-instruct/gt/m45678/5\n",
      "Missing file in /cluster/work/lawecon/Work/mbraasch/output/TEC/microsoft--Phi-3-mini-128k-instruct/dl/m45678/1\n",
      "Missing file in /cluster/work/lawecon/Work/mbraasch/output/TEC/microsoft--Phi-3-mini-128k-instruct/dl/m45678/2\n",
      "Missing file in /cluster/work/lawecon/Work/mbraasch/output/TEC/microsoft--Phi-3-mini-128k-instruct/dl/m45678/3\n",
      "Missing file in /cluster/work/lawecon/Work/mbraasch/output/TEC/microsoft--Phi-3-mini-128k-instruct/dl/m45678/4\n",
      "Missing file in /cluster/work/lawecon/Work/mbraasch/output/TEC/microsoft--Phi-3-mini-128k-instruct/dl/m45678/5\n",
      "Missing file in /cluster/work/lawecon/Work/mbraasch/output/TEC/microsoft--Phi-3-mini-128k-instruct/socratic/m45678/1\n",
      "Missing file in /cluster/work/lawecon/Work/mbraasch/output/TEC/microsoft--Phi-3-mini-128k-instruct/socratic/m45678/2\n",
      "Missing file in /cluster/work/lawecon/Work/mbraasch/output/TEC/microsoft--Phi-3-mini-128k-instruct/socratic/m45678/3\n",
      "Missing file in /cluster/work/lawecon/Work/mbraasch/output/TEC/microsoft--Phi-3-mini-128k-instruct/socratic/m45678/4\n",
      "Missing file in /cluster/work/lawecon/Work/mbraasch/output/TEC/microsoft--Phi-3-mini-128k-instruct/socratic/m45678/5\n",
      "Missing file in /cluster/work/lawecon/Work/mbraasch/output/TEC/mistralai--Mistral-7B-Instruct-v0.3/gt/m2345678/4\n",
      "Missing file in /cluster/work/lawecon/Work/mbraasch/output/TEC/mistralai--Mistral-7B-Instruct-v0.3/gt/m2345678/5\n",
      "Missing file in /cluster/work/lawecon/Work/mbraasch/output/TEC/mistralai--Mistral-7B-Instruct-v0.3/dl/m2345678/4\n",
      "Missing file in /cluster/work/lawecon/Work/mbraasch/output/TEC/mistralai--Mistral-7B-Instruct-v0.3/socratic/m2345678/3\n",
      "Missing file in /cluster/work/lawecon/Work/mbraasch/output/TEC/mistralai--Mistral-7B-Instruct-v0.3/socratic/m2345678/4\n",
      "Missing file in /cluster/work/lawecon/Work/mbraasch/output/TEC/mistralai--Mistral-7B-Instruct-v0.3/gt/m345678/4\n",
      "Missing file in /cluster/work/lawecon/Work/mbraasch/output/TEC/mistralai--Mistral-7B-Instruct-v0.3/dl/m345678/3\n",
      "Missing file in /cluster/work/lawecon/Work/mbraasch/output/TEC/mistralai--Mistral-7B-Instruct-v0.3/dl/m345678/4\n",
      "Missing file in /cluster/work/lawecon/Work/mbraasch/output/TEC/mistralai--Mistral-7B-Instruct-v0.3/socratic/m345678/4\n",
      "Missing file in /cluster/work/lawecon/Work/mbraasch/output/TEC/mistralai--Mistral-7B-Instruct-v0.3/gt/m45678/4\n",
      "Missing file in /cluster/work/lawecon/Work/mbraasch/output/TEC/mistralai--Mistral-7B-Instruct-v0.3/dl/m45678/4\n",
      "Missing file in /cluster/work/lawecon/Work/mbraasch/output/TEC/mistralai--Mistral-7B-Instruct-v0.3/socratic/m45678/4\n",
      "57\n"
     ]
    }
   ],
   "source": [
    "counter = 0\n",
    "for model in models:\n",
    "    for expert in experts:\n",
    "        for dataset in datasets:\n",
    "            for run in runs:\n",
    "                target_directory = f\"/cluster/work/lawecon/Work/mbraasch/output/TEC/{model}/{dataset}/{expert}/{run}\"\n",
    "                # Check if in the directory there is a file called \"final_results_OSC.json\"\n",
    "                try:\n",
    "                    with open(f\"{target_directory}/final_results_TEC_from_gt.json\", \"r\") as f:\n",
    "                        pass\n",
    "                except FileNotFoundError:\n",
    "                    print(f\"Missing file in {target_directory}\")\n",
    "                    counter += 1\n",
    "                    continue\n",
    "print(counter)"
   ]
  },
  {
   "cell_type": "code",
   "execution_count": null,
   "metadata": {},
   "outputs": [],
   "source": []
  }
 ],
 "metadata": {
  "kernelspec": {
   "display_name": "Python 3 (ipykernel)",
   "language": "python",
   "name": "python3"
  },
  "language_info": {
   "codemirror_mode": {
    "name": "ipython",
    "version": 3
   },
   "file_extension": ".py",
   "mimetype": "text/x-python",
   "name": "python",
   "nbconvert_exporter": "python",
   "pygments_lexer": "ipython3",
   "version": "3.11.6"
  }
 },
 "nbformat": 4,
 "nbformat_minor": 4
}
