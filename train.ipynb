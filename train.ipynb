{
 "cells": [
  {
   "cell_type": "markdown",
   "id": "abc4c165-2710-496f-80ba-49e17d3935c5",
   "metadata": {},
   "source": [
    "### Imports"
   ]
  },
  {
   "cell_type": "code",
   "execution_count": null,
   "id": "fdbae5eb-782c-430f-9681-49aca0b5a5da",
   "metadata": {},
   "outputs": [],
   "source": [
    "!nvidia-smi"
   ]
  },
  {
   "cell_type": "code",
   "execution_count": 2,
   "id": "c016990b-f97e-42c2-b521-470b11595c65",
   "metadata": {},
   "outputs": [
    {
     "name": "stdout",
     "output_type": "stream",
     "text": [
      "/bin/bash: line 1: kill: (173534) - No such process\n"
     ]
    }
   ],
   "source": [
    "!kill -KILL 173534"
   ]
  },
  {
   "cell_type": "code",
   "execution_count": 3,
   "id": "528d8d57-c108-4193-854a-7464bf61904c",
   "metadata": {},
   "outputs": [],
   "source": [
    "import os\n",
    "import json\n",
    "\n",
    "from train import (\n",
    "    load_data,\n",
    "    setup_trainer,\n",
    "    load_model_and_tokenizer,\n",
    "    DataCollatorForSupervisedDataset\n",
    ")\n",
    "from utils import OUTPUT_DIR"
   ]
  },
  {
   "cell_type": "markdown",
   "id": "f359d2e9-43d1-4182-b6ee-cdc72e57bc91",
   "metadata": {},
   "source": [
    "### Variables"
   ]
  },
  {
   "cell_type": "code",
   "execution_count": 5,
   "id": "62d1108c-01b6-492f-bb17-007cc07e9819",
   "metadata": {},
   "outputs": [],
   "source": [
    "config = {\n",
    "    \"data_path\": \"xxx\",\n",
    "    \"run_name\": \"xxx\",\n",
    "    \"instruction\": \"Solve the following math word problem step-by-step.\",\n",
    "    \"experiment_name\": \"gemma-2b-it\",\n",
    "    \"model_name_or_path\": \"google/gemma-2b-it\"\n",
    "}\n",
    "print(\"Config:\")\n",
    "print(*list(config.items()), sep=\"\\n\", end=\"\\n\\n\")\n",
    "output_path = os.path.join(OUTPUT_DIR, config[\"experiment_name\"], config[\"run_name\"])\n",
    "print(\"Output Path: \", output_path)\n",
    "if not os.path.exists(output_path):\n",
    "    os.makedirs(output_path)\n",
    "with open(os.path.join(output_path, \"config.json\"), \"w\") as f:\n",
    "    json.dump(config, f, ensure_ascii=False, indent=4)\n",
    "\n",
    "print(\"Loading model and tokenizer\")\n",
    "model, tokenizer = load_model_and_tokenizer(config[\"model_name_or_path\"])\n",
    "\n",
    "print(\"Loading data\")\n",
    "train_dataset = load_data(config, max_train_samples=None)\n",
    "data_collator = DataCollatorForSupervisedDataset(tokenizer=tokenizer)\n",
    "\n",
    "print(\"Setting up training\")\n",
    "trainer = setup_trainer(model, tokenizer, train_dataset, data_collator, output_path)\n",
    "\n",
    "print(\"Start training\")\n",
    "trainer.train()"
   ]
  }
 ],
 "metadata": {
  "kernelspec": {
   "display_name": "Python 3 (ipykernel)",
   "language": "python",
   "name": "python3"
  },
  "language_info": {
   "codemirror_mode": {
    "name": "ipython",
    "version": 3
   },
   "file_extension": ".py",
   "mimetype": "text/x-python",
   "name": "python",
   "nbconvert_exporter": "python",
   "pygments_lexer": "ipython3",
   "version": "3.11.6"
  }
 },
 "nbformat": 4,
 "nbformat_minor": 5
}
