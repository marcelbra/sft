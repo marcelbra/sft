{
 "cells": [
  {
   "cell_type": "markdown",
   "id": "abc4c165-2710-496f-80ba-49e17d3935c5",
   "metadata": {},
   "source": [
    "### Imports"
   ]
  },
  {
   "cell_type": "code",
   "execution_count": null,
   "id": "fdbae5eb-782c-430f-9681-49aca0b5a5da",
   "metadata": {},
   "outputs": [],
   "source": [
    "!nvidia-smi"
   ]
  },
  {
   "cell_type": "code",
   "execution_count": null,
   "id": "6cc0dc2a-0657-4216-b3da-53d28547dcb1",
   "metadata": {},
   "outputs": [],
   "source": [
    "!pip3 install \"unsloth[colab-new] @ git+https://github.com/unslothai/unsloth.git\"\n",
    "#pip install --no-deps packaging ninja einops flash-attn xformers trl peft accelerate bitsandbytes"
   ]
  },
  {
   "cell_type": "code",
   "execution_count": 18,
   "id": "c016990b-f97e-42c2-b521-470b11595c65",
   "metadata": {},
   "outputs": [
    {
     "name": "stdout",
     "output_type": "stream",
     "text": [
      "/bin/bash: line 1: kill: (340673) - No such process\n"
     ]
    }
   ],
   "source": [
    "!kill -KILL 340673"
   ]
  },
  {
   "cell_type": "code",
   "execution_count": 19,
   "id": "528d8d57-c108-4193-854a-7464bf61904c",
   "metadata": {},
   "outputs": [],
   "source": [
    "from train import run"
   ]
  },
  {
   "cell_type": "markdown",
   "id": "f359d2e9-43d1-4182-b6ee-cdc72e57bc91",
   "metadata": {},
   "source": [
    "### Variables"
   ]
  },
  {
   "cell_type": "code",
   "execution_count": null,
   "id": "62d1108c-01b6-492f-bb17-007cc07e9819",
   "metadata": {},
   "outputs": [],
   "source": [
    "config = {\n",
    "    \"data_path\": \"/cluster/work/lawecon/Work/mbraasch/data/gsm8k_train.json\",\n",
    "    \"run_name\": \"/cluster/work/lawecon/Work/mbraasch/output/gemma-2b-it/unsloth_test/gemma-2b-it--wo-unsloth-gsm8k-bl\",\n",
    "    \"model_name_or_path\": \"unsloth/Qwen2-1.5B-Instruct\"\n",
    "}\n",
    "run(config)"
   ]
  },
  {
   "cell_type": "code",
   "execution_count": null,
   "id": "1dc6e136-eb6c-4442-baea-08af9b565974",
   "metadata": {},
   "outputs": [],
   "source": []
  }
 ],
 "metadata": {
  "kernelspec": {
   "display_name": "Python 3 (ipykernel)",
   "language": "python",
   "name": "python3"
  },
  "language_info": {
   "codemirror_mode": {
    "name": "ipython",
    "version": 3
   },
   "file_extension": ".py",
   "mimetype": "text/x-python",
   "name": "python",
   "nbconvert_exporter": "python",
   "pygments_lexer": "ipython3",
   "version": "3.11.6"
  }
 },
 "nbformat": 4,
 "nbformat_minor": 5
}
