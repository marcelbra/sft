{
 "cells": [
  {
   "cell_type": "code",
   "execution_count": 7,
   "id": "85a6a867",
   "metadata": {},
   "outputs": [],
   "source": [
    "import json"
   ]
  },
  {
   "cell_type": "code",
   "execution_count": 19,
   "id": "d782fc22-7ffb-40e3-90b6-42c2234d962e",
   "metadata": {},
   "outputs": [],
   "source": [
    "experiment = \"moe--filter-previous-data\"\n",
    "models = [\n",
    "    \"phi-3-mini-instruct\",\n",
    "    \"Mistral-7B-Instruct-v0.3\",\n",
    "    \"gemma-2b-it\",\n",
    "    \"deepseek-7b-base\"\n",
    "]\n",
    "experts = [\"2345678\", \"345678\", \"45678\", \"5678\", \"678\", \"78\", \"8\"]\n",
    "runs = [1, 2, 3, 4, 5]"
   ]
  },
  {
   "cell_type": "code",
   "execution_count": 16,
   "id": "6c3811a1-f31b-4765-a8a6-ec1d237f9160",
   "metadata": {},
   "outputs": [
    {
     "name": "stdout",
     "output_type": "stream",
     "text": [
      "Error\n"
     ]
    }
   ],
   "source": [
    "for model in models:\n",
    "    for expert in experts:\n",
    "        expert_acc = []\n",
    "        for run in runs:\n",
    "            path = f\"/cluster/work/lawecon/Work/mbraasch/output/{model}/{experiment}/{expert}/{run}/accuracy.json\"\n",
    "            try:\n",
    "                with open(path, \"r\") as f:\n",
    "                    data = json.load(f)\n",
    "            except:\n",
    "                print(\"Error\")\n",
    "            run_acc = data[\"accuracy\"]\n",
    "            expert_acc.append(run_acc)\n",
    "        # Average accuracy\n",
    "        avg_acc = sum(expert_acc) / len(expert_acc)\n",
    "        target_path = f\"/cluster/work/lawecon/Work/mbraasch/output/{model}/{experiment}/{expert}/avg_accuracy.json\"\n",
    "        with open(target_path, \"w\") as f:\n",
    "            json.dump(\n",
    "                {\"accuracy\": avg_acc,\n",
    "                 \"n\": data[\"n\"]\n",
    "                },\n",
    "                f, indent=4, ensure_ascii=False\n",
    "            )\n",
    "    "
   ]
  },
  {
   "cell_type": "code",
   "execution_count": 22,
   "id": "14b02175-c1ad-49aa-9fed-089899020c43",
   "metadata": {},
   "outputs": [],
   "source": [
    "from collections import defaultdict\n",
    "\n",
    "steps = list(range(2, 9))\n",
    "\n",
    "expert = \"2345678\"\n",
    "for model in models:\n",
    "    \n",
    "    accuracies = defaultdict(list)\n",
    "    for step in steps:\n",
    "        for run in runs:\n",
    "            path = f\"/cluster/work/lawecon/Work/mbraasch/output/{model}/{experiment}/{expert}/{run}/accuracy_{step}.json\"\n",
    "            with open(path, \"r\") as f:\n",
    "                data = json.load(f)\n",
    "            run_acc = data[\"accuracy\"]\n",
    "            n = data[\"n\"]\n",
    "            accuracies[step].append(run_acc)\n",
    "        accuracies[step] = sum(accuracies[step]) / len(accuracies[step])\n",
    "    target_path = f\"/cluster/work/lawecon/Work/mbraasch/output/{model}/{experiment}/{expert}/accuracies_bl.json\"\n",
    "    with open(target_path, \"w\") as f:\n",
    "        json.dump(accuracies, f, indent=4, ensure_ascii=False)\n",
    "    "
   ]
  },
  {
   "cell_type": "code",
   "execution_count": null,
   "id": "4511f676-8e01-4e7c-aa46-c917d0f3de47",
   "metadata": {},
   "outputs": [],
   "source": []
  }
 ],
 "metadata": {
  "kernelspec": {
   "display_name": "Python 3 (ipykernel)",
   "language": "python",
   "name": "python3"
  },
  "language_info": {
   "codemirror_mode": {
    "name": "ipython",
    "version": 3
   },
   "file_extension": ".py",
   "mimetype": "text/x-python",
   "name": "python",
   "nbconvert_exporter": "python",
   "pygments_lexer": "ipython3",
   "version": "3.11.6"
  }
 },
 "nbformat": 4,
 "nbformat_minor": 5
}
